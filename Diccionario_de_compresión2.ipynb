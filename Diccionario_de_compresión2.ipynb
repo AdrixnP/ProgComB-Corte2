{
  "nbformat": 4,
  "nbformat_minor": 0,
  "metadata": {
    "colab": {
      "provenance": []
    },
    "kernelspec": {
      "name": "python3",
      "display_name": "Python 3"
    },
    "language_info": {
      "name": "python"
    }
  },
  "cells": [
    {
      "cell_type": "markdown",
      "source": [
        "#Diccionarios de compresión"
      ],
      "metadata": {
        "id": "cepxJaMy0z4G"
      }
    },
    {
      "cell_type": "markdown",
      "source": [
        "##Original"
      ],
      "metadata": {
        "id": "v-WJIpCblO4-"
      }
    },
    {
      "cell_type": "code",
      "source": [
        "#Adrian Parra\n",
        "#3)Crear un programa que promedie el rendimiento en saltos de un atleta\n",
        "\n",
        "nombre=str(input(\"Ingrese el nombre del atleta: \"))\n",
        "nsaltos=int(input(\"¿Cuantos saltos va a realizar? \"))\n",
        "contador=0\n",
        "#cuenta el total de saltos\n",
        "\n",
        "#saber los saltos exitosos\n",
        "Ssaltos=0\n",
        "#la suma de las alturas de los saltos\n",
        "Psaltos=0\n",
        "#el promedio\n",
        "saltoM=0\n",
        "#el salto mayor\n",
        "print(\"--------------\")\n",
        "print(\"La altura de los saltos se mide en metros\")\n",
        "\n",
        "while nsaltos!=0:\n",
        "    alturasalto=float(input(\"Ingrese la altura del salto: \"))\n",
        "    while alturasalto<0:\n",
        "        alturasalto=float(input(\"Ingrese una altura válida para el salto: \"))\n",
        "    nsaltos-=1\n",
        "    contador+=1\n",
        "    Ssaltos=Ssaltos+alturasalto\n",
        "    #Ssaltos es la suma de todas las alturas registradas\n",
        "    if saltoM<alturasalto:\n",
        "        saltoM=alturasalto\n",
        "        #cuando la altura del salto mayor (inicialmente 0) es menor a la altura registrada, el mayor se cambia a este\n",
        "\n",
        "#Ya estan todos los saltos, sacar promedio de los saltos exitosos\n",
        "\n",
        "Psaltos=Ssaltos/contador\n",
        "PRsaltos=round(Psaltos, 2)\n",
        "print(\"--------------\")\n",
        "print(\"El atleta\", nombre, \"realizó\", contador, \"saltos teniendo un promedio de\", PRsaltos, \"metros\")\n",
        "print(\"El salto mayor fue el de\", saltoM, \"metros de altura\")"
      ],
      "metadata": {
        "colab": {
          "base_uri": "https://localhost:8080/"
        },
        "id": "_mQiPT9LHa-Z",
        "outputId": "ff9c2052-4a99-4a51-c452-9809ad466cb2"
      },
      "execution_count": 10,
      "outputs": [
        {
          "output_type": "stream",
          "name": "stdout",
          "text": [
            "Ingrese el nombre del atleta: Kiriko\n",
            "¿Cuantos saltos va a realizar? 5\n",
            "--------------\n",
            "La altura de los saltos se mide en metros\n",
            "Ingrese la altura del salto: 5.43\n",
            "Ingrese la altura del salto: 3.76\n",
            "Ingrese la altura del salto: 4.21\n",
            "Ingrese la altura del salto: 0\n",
            "Ingrese la altura del salto: 7.53\n",
            "--------------\n",
            "El atleta Kiriko realizó 5 saltos teniendo un promedio de 4.19 metros\n",
            "El salto mayor fue el de 7.53 metros de altura\n"
          ]
        }
      ]
    },
    {
      "cell_type": "markdown",
      "source": [
        "##Ejercicios"
      ],
      "metadata": {
        "id": "9L19QlhblQ89"
      }
    },
    {
      "cell_type": "code",
      "execution_count": 11,
      "metadata": {
        "colab": {
          "base_uri": "https://localhost:8080/"
        },
        "id": "qzksHOmT0x_-",
        "outputId": "021249ec-8dcb-4aac-f15e-93e9b7ed225a"
      },
      "outputs": [
        {
          "output_type": "stream",
          "name": "stdout",
          "text": [
            "Ingrese el nombre del atleta: Kiriko\n",
            "Ingrese el número de saltos: 5\n",
            "--------------\n",
            "La altura de los saltos se mide en metros\n",
            "Ingrese la altura del salto: 5.43\n",
            "Ingrese la altura del salto: 3.76\n",
            "Ingrese la altura del salto: 4.21\n",
            "Ingrese la altura del salto: 0\n",
            "Ingrese la altura del salto: 7.53\n",
            "--------------\n",
            "Atleta Kiriko:\n",
            "{'Salto 1': 5.43, 'Salto 2': 3.76, 'Salto 3': 4.21, 'Salto 4': 0.0, 'Salto 5': 7.53}\n",
            "El promedio de los 5 saltos es de 4.19 metros, teniendo que el mayor fue aquel con 7.53 metros de altura\n"
          ]
        }
      ],
      "source": [
        "nombre=str(input(\"Ingrese el nombre del atleta: \"))\n",
        "N=int(input(\"Ingrese el número de saltos: \"))\n",
        "\n",
        "def fun(nombre, a):\n",
        "  lista=[]\n",
        "  for i in range(0,a):\n",
        "    name=str(f\"Salto {i+1}\")\n",
        "    lista.append(name)\n",
        "  \n",
        "  print(\"--------------\")\n",
        "  print(\"La altura de los saltos se mide en metros\")\n",
        "  dic_lista={lista: float(input(f\"Ingrese la altura del salto: \")) for lista in lista}\n",
        "  distancia=sorted(dic_lista.values())\n",
        "  mayor=distancia[-1]\n",
        "  print(\"--------------\")\n",
        "  print(f\"Atleta {nombre}:\")\n",
        "  print(dic_lista)\n",
        "  sum=0\n",
        "  for i in dic_lista.values():\n",
        "    sum+=i\n",
        "  prom=sum/a\n",
        "  redprom=round(prom, 2)\n",
        "  print(f\"El promedio de los {a} saltos es de {redprom} metros, teniendo que el mayor fue aquel con {mayor} metros de altura\")\n",
        "\n",
        "fun(nombre ,N)"
      ]
    },
    {
      "cell_type": "code",
      "source": [
        "from functools import reduce\n",
        "\n",
        "nombre=str(input(\"Ingrese el nombre del atleta: \"))\n",
        "a=int(input(\"Ingrese el número de saltos: \"))\n",
        "\n",
        "\n",
        "lista=[]\n",
        "for i in range(0,a):\n",
        "  name=str(f\"Salto {i+1}\")\n",
        "  lista.append(name)\n",
        "  \n",
        "  \n",
        "print(\"--------------\")\n",
        "print(\"La altura de los saltos se mide en metros\")\n",
        "dic_lista=(dict(map(lambda x:(x, float(input(f\"Ingrese la altura del salto: \"))), lista)))\n",
        "distancia=sorted(dic_lista.values())\n",
        "mayor=distancia[-1]\n",
        "print(\"--------------\")\n",
        "print(f\"Atleta {nombre}:\")\n",
        "print(dic_lista)\n",
        "\n",
        "sum=reduce(lambda distancia,distancia1:distancia+distancia1, distancia)\n",
        "\n",
        "prom=float(sum)/a\n",
        "redprom=round(prom, 2)\n",
        "print(f\"El promedio de los {a} saltos es de {redprom} metros, teniendo que el mayor fue aquel con {mayor} metros de altura\")"
      ],
      "metadata": {
        "colab": {
          "base_uri": "https://localhost:8080/"
        },
        "id": "rXblNAPAXR7R",
        "outputId": "7a675276-3f9e-40a8-8c13-0c358c7dcee9"
      },
      "execution_count": 5,
      "outputs": [
        {
          "output_type": "stream",
          "name": "stdout",
          "text": [
            "Ingrese el nombre del atleta: Kiriko\n",
            "Ingrese el número de saltos: 5\n",
            "--------------\n",
            "La altura de los saltos se mide en metros\n",
            "Ingrese la altura del salto: 5.43\n",
            "Ingrese la altura del salto: 3.76\n",
            "Ingrese la altura del salto: 4.21\n",
            "Ingrese la altura del salto: 0\n",
            "Ingrese la altura del salto: 7.53\n",
            "--------------\n",
            "Atleta Kiriko:\n",
            "{'Salto 1': 5.43, 'Salto 2': 3.76, 'Salto 3': 4.21, 'Salto 4': 0.0, 'Salto 5': 7.53}\n",
            "El promedio de los 5 saltos es de 4.19 metros, teniendo que el mayor fue aquel con 7.53 metros de altura\n"
          ]
        }
      ]
    }
  ]
}