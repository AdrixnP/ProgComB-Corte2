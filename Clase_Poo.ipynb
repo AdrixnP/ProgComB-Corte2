{
  "nbformat": 4,
  "nbformat_minor": 0,
  "metadata": {
    "colab": {
      "provenance": []
    },
    "kernelspec": {
      "name": "python3",
      "display_name": "Python 3"
    },
    "language_info": {
      "name": "python"
    }
  },
  "cells": [
    {
      "cell_type": "code",
      "execution_count": null,
      "metadata": {
        "id": "XP8k_MFq7k8s"
      },
      "outputs": [],
      "source": [
        "class Fraccion:\n",
        "  def __init__(self,num,den,pot):\n",
        "    self.num=num\n",
        "    self.den=den\n",
        "    self.pot=pot\n",
        "\n",
        "  def potencia(self):\n",
        "    num=self.num**self.pot\n",
        "    den=self.den**self.pot\n",
        "    pot=self.pot\n",
        "    c=Fraccion(num,den,pot)\n",
        "    print(f'{c.num}/{c.den}')\n",
        "    return c\n",
        "  def suma(self,s):\n",
        "    if self.den==0 or s.den==0:\n",
        "      print(\"No se puede dividir entre 0\")\n",
        "    else:\n",
        "      if self.den!=s.den:\n",
        "        num=(self.num*s.den)+(self.den*s.num)\n",
        "        den=self.den*s.den\n",
        "      else:\n",
        "        num=(self.num*s.den)+(self.den*s.num)\n",
        "        den=self.den\n",
        "        f=Fraccion(num,den,1)\n",
        "        print(f\"{f.num}/{f.den}\")\n",
        "        return f\n",
        "\n",
        "  def resta(self,s):\n",
        "   if self.den==0 or s.den==0:\n",
        "    print(\"No se puede dividir entre 0.\")\n",
        "   else:\n",
        "     if self.den!=s.den:\n",
        "       num=(self.num*s.den)-(self.den*s.num)\n",
        "       den=self.den*s.den\n",
        "     else:\n",
        "      num=(self.num*s.den)-(self.den*s.num)\n",
        "      den=self.den\n",
        "      f=Fraccion(num,den,1)\n",
        "      print(f\"{f.num} / {f.den}\")\n",
        "      return f\n",
        "  def producto(self,s):\n",
        "   num=self.num*s.num\n",
        "   den=self.den*s.den\n",
        "   fr=Fraccion(num,den,1)\n",
        "   return f\"{fr.num}/{fr.den}\"\n",
        "  def div(self,c):\n",
        "    num=self.num*c.den\n",
        "    den=self.den*c.num\n",
        "    frac=Fraccion(num,den,1)\n",
        "    return f\"{frac.num}/{frac.den}\""
      ]
    },
    {
      "cell_type": "code",
      "source": [
        "s=Fraccion(2,5,8)"
      ],
      "metadata": {
        "id": "dZDuDtLb7ss5"
      },
      "execution_count": null,
      "outputs": []
    },
    {
      "cell_type": "code",
      "source": [
        "s.__dict__"
      ],
      "metadata": {
        "id": "OcdIDmdm7tOp"
      },
      "execution_count": null,
      "outputs": []
    },
    {
      "cell_type": "code",
      "source": [
        "s.potencia()"
      ],
      "metadata": {
        "id": "7VV5i6Ei7uIR"
      },
      "execution_count": null,
      "outputs": []
    },
    {
      "cell_type": "code",
      "source": [
        "yo=t.resta(s)"
      ],
      "metadata": {
        "id": "rQQtjin77u0h"
      },
      "execution_count": null,
      "outputs": []
    },
    {
      "cell_type": "code",
      "source": [
        "t.suma(s)"
      ],
      "metadata": {
        "id": "kw7bPPqK70eu"
      },
      "execution_count": null,
      "outputs": []
    },
    {
      "cell_type": "code",
      "source": [
        "t.prdoducto"
      ],
      "metadata": {
        "id": "3c4iDZJM71Ne"
      },
      "execution_count": null,
      "outputs": []
    },
    {
      "cell_type": "code",
      "source": [
        "a=t.div(s)"
      ],
      "metadata": {
        "id": "RxnUOLXu71I2"
      },
      "execution_count": null,
      "outputs": []
    },
    {
      "cell_type": "code",
      "source": [
        "print(a)"
      ],
      "metadata": {
        "id": "iImhrdLL72be"
      },
      "execution_count": null,
      "outputs": []
    }
  ]
}