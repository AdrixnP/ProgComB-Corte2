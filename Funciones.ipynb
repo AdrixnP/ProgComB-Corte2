{
  "nbformat": 4,
  "nbformat_minor": 0,
  "metadata": {
    "colab": {
      "provenance": []
    },
    "kernelspec": {
      "name": "python3",
      "display_name": "Python 3"
    },
    "language_info": {
      "name": "python"
    }
  },
  "cells": [
    {
      "cell_type": "code",
      "source": [
        "def CalcularEdad(aA, mA, dA, aN, mN, dN):\n",
        "  edad=aA-aN\n",
        "  if mN>mA or (mN==mA and dN>dA):\n",
        "    edad-=1\n",
        "  print(\"Su edad es de\", edad, \"años\")\n",
        "\n",
        "print(\"Fecha actual\")\n",
        "fechaA=int(input(\"Año actual: \"))\n",
        "fechaM=int(input(\"Mes actual: \"))\n",
        "fechaD=int(input(\"Dia actual: \"))\n",
        "\n",
        "print(\"Fecha de nacimiento\")\n",
        "NaceA=int(input(\"Año de nacimiento: \"))\n",
        "NaceM=int(input(\"Mes de nacimiento: \"))\n",
        "NaceD=int(input(\"Dia de nacimiento: \"))\n",
        "\n",
        "CalcularEdad(fechaA, fechaM, fechaD, NaceA, NaceM, NaceD)"
      ],
      "metadata": {
        "colab": {
          "base_uri": "https://localhost:8080/"
        },
        "id": "wbwVjMevNWcp",
        "outputId": "62e98330-510c-47b1-957c-6af45c2c0c5c"
      },
      "execution_count": 32,
      "outputs": [
        {
          "output_type": "stream",
          "name": "stdout",
          "text": [
            "Fecha actual\n",
            "Año actual: 2022\n",
            "Mes actual: 9\n",
            "Dia actual: 30\n",
            "Fecha de nacimiento\n",
            "Año de nacimiento: 2004\n",
            "Mes de nacimiento: 8\n",
            "Dia de nacimiento: 10\n",
            "Su edad es de 18 años\n"
          ]
        }
      ]
    },
    {
      "cell_type": "code",
      "source": [
        "def informacionPersonal ():\n",
        "    nombre = \"Juana de Arco\"\n",
        "    edad = 19\n",
        "    país = \"Francia\"\n",
        "    info=(nombre + \", de \" + país + \", tiene \" + str(edad) + \" años de edad\")\n",
        "    return info\n",
        "\n",
        "informacionPersonal()\n"
      ],
      "metadata": {
        "colab": {
          "base_uri": "https://localhost:8080/",
          "height": 35
        },
        "id": "VV6nrvJ4QErj",
        "outputId": "42987dd2-c1cf-47cf-ceb0-6cc20e27e373"
      },
      "execution_count": 36,
      "outputs": [
        {
          "output_type": "execute_result",
          "data": {
            "text/plain": [
              "'Juana de Arco, de Francia, tiene 19 años de edad'"
            ],
            "application/vnd.google.colaboratory.intrinsic+json": {
              "type": "string"
            }
          },
          "metadata": {},
          "execution_count": 36
        }
      ]
    }
  ]
}