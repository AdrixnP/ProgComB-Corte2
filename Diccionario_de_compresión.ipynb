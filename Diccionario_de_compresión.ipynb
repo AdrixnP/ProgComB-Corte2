{
  "nbformat": 4,
  "nbformat_minor": 0,
  "metadata": {
    "colab": {
      "provenance": []
    },
    "kernelspec": {
      "name": "python3",
      "display_name": "Python 3"
    },
    "language_info": {
      "name": "python"
    }
  },
  "cells": [
    {
      "cell_type": "markdown",
      "source": [
        "#Diccionarios de compresión"
      ],
      "metadata": {
        "id": "cepxJaMy0z4G"
      }
    },
    {
      "cell_type": "code",
      "execution_count": 1,
      "metadata": {
        "colab": {
          "base_uri": "https://localhost:8080/"
        },
        "id": "qzksHOmT0x_-",
        "outputId": "640a2f4e-62c8-4011-e18a-eda30068216f"
      },
      "outputs": [
        {
          "output_type": "stream",
          "name": "stdout",
          "text": [
            "Ingrese el nombre del atleta: Lucian\n",
            "Ingrese el número de saltos: 5\n",
            "--------------\n",
            "Ingrese la distancia del salto: 4.6\n",
            "Ingrese la distancia del salto: 0\n",
            "Ingrese la distancia del salto: 6.43\n",
            "Ingrese la distancia del salto: 2.5\n",
            "Ingrese la distancia del salto: 6.3\n",
            "--------------\n",
            "Atleta Lucian:\n",
            "{'Salto 1': 4.6, 'Salto 2': 0.0, 'Salto 3': 6.43, 'Salto 4': 2.5, 'Salto 5': 6.3}\n",
            "El promedio de los 5 saltos es de 3.9659999999999997 metros, teniendo que el mayor fue aquel con 6.43 metros\n"
          ]
        }
      ],
      "source": [
        "nombre=str(input(\"Ingrese el nombre del atleta: \"))\n",
        "N=int(input(\"Ingrese el número de saltos: \"))\n",
        "\n",
        "def fun(nombre, a):\n",
        "  lista=[]\n",
        "  for i in range(0,a):\n",
        "    name=str(f\"Salto {i+1}\")\n",
        "    lista.append(name)\n",
        "  \n",
        "  print(\"--------------\")\n",
        "  dic_lista={lista: float(input(f\"Ingrese la distancia del salto: \")) for lista in lista}\n",
        "  distancia=sorted(dic_lista.values())\n",
        "  mayor=distancia[-1]\n",
        "  print(\"--------------\")\n",
        "  print(f\"Atleta {nombre}:\")\n",
        "  print(dic_lista)\n",
        "  sum=0\n",
        "  for i in dic_lista.values():\n",
        "    sum+=i\n",
        "  prom=sum/a\n",
        "  print(f\"El promedio de los {a} saltos es de {prom} metros, teniendo que el mayor fue aquel con {mayor} metros\")\n",
        "\n",
        "fun(nombre ,N)"
      ]
    }
  ]
}