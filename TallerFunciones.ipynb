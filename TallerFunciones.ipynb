{
  "nbformat": 4,
  "nbformat_minor": 0,
  "metadata": {
    "colab": {
      "provenance": []
    },
    "kernelspec": {
      "name": "python3",
      "display_name": "Python 3"
    },
    "language_info": {
      "name": "python"
    }
  },
  "cells": [
    {
      "cell_type": "markdown",
      "source": [
        "#Ejercicios Funciones"
      ],
      "metadata": {
        "id": "UfCqysOqcVqO"
      }
    },
    {
      "cell_type": "markdown",
      "source": [
        "##Punto 1"
      ],
      "metadata": {
        "id": "hOlGYLoXcat8"
      }
    },
    {
      "cell_type": "code",
      "source": [
        "N1=int(input(\"Ingrese el primer número: \"))\n",
        "N2=int(input(\"Ingrese el segundo número: \"))\n",
        "\n",
        "def Calcular1(a,b):\n",
        "  if a>b:\n",
        "    print(\"El primer número es mayor:\", a)\n",
        "  elif a<b:\n",
        "    print(\"El segundo número es mayor:\", b)\n",
        "  else:\n",
        "    print(\"Ambos números son iguales\")\n",
        "\n",
        "print(\"--------------\")\n",
        "Calcular1(N1, N2)"
      ],
      "metadata": {
        "colab": {
          "base_uri": "https://localhost:8080/"
        },
        "id": "9URUq6UJcTEk",
        "outputId": "75cc4be1-c634-49f6-f0b7-5ac3977a33b0"
      },
      "execution_count": 22,
      "outputs": [
        {
          "output_type": "stream",
          "name": "stdout",
          "text": [
            "Ingrese el primer número: 4\n",
            "Ingrese el segundo número: 6\n",
            "--------------\n",
            "El segundo número es mayor: 6\n"
          ]
        }
      ]
    },
    {
      "cell_type": "markdown",
      "source": [
        "##Punto 2"
      ],
      "metadata": {
        "id": "4hWK5yEze-tR"
      }
    },
    {
      "cell_type": "code",
      "source": [
        "N1=int(input(\"Ingrese el primer número: \"))\n",
        "N2=int(input(\"Ingrese el segundo número: \"))\n",
        "N3=int(input(\"Ingrese el tercer número: \"))\n",
        "\n",
        "def Calcular2(a,b,c):\n",
        "  if a>b and a>c:\n",
        "    print(\"El primer número es mayor:\", a)\n",
        "  elif b>a and b>c:\n",
        "    print(\"El segundo número es mayor:\", b)\n",
        "  elif c>a and c>b:\n",
        "    print(\"El tercer número es mayor:\", c)\n",
        "  else:\n",
        "    print(\"Los 3 números son iguales\")\n",
        "\n",
        "print(\"--------------\")\n",
        "Calcular2(N1, N2, N3)"
      ],
      "metadata": {
        "colab": {
          "base_uri": "https://localhost:8080/"
        },
        "id": "PVflll3CfNtg",
        "outputId": "33a07cfc-07b7-419b-c904-3b8dfff45b6d"
      },
      "execution_count": 23,
      "outputs": [
        {
          "output_type": "stream",
          "name": "stdout",
          "text": [
            "Ingrese el primer número: 4\n",
            "Ingrese el segundo número: 3\n",
            "Ingrese el tercer número: 5\n",
            "--------------\n",
            "El tercer número es mayor: 5\n"
          ]
        }
      ]
    },
    {
      "cell_type": "markdown",
      "source": [
        "##Punto 3"
      ],
      "metadata": {
        "id": "Pt3a7xvbg_dm"
      }
    },
    {
      "cell_type": "code",
      "source": [
        "N1=int(input(\"Ingrese el primer número: \"))\n",
        "N2=int(input(\"Ingrese el segundo número: \"))\n",
        "N3=int(input(\"Ingrese el tercer número: \"))\n",
        "\n",
        "def Suma1(a,b,c):\n",
        "  Lista1=[a,b,c]\n",
        "  Suma1=Lista1[0]+Lista1[1]+Lista1[2]\n",
        "  print(\"La suma de los números es\", Suma1)\n",
        "\n",
        "print(\"--------------\")\n",
        "Suma1(N1,N2,N3)"
      ],
      "metadata": {
        "colab": {
          "base_uri": "https://localhost:8080/"
        },
        "id": "xTbgP2PzhBHu",
        "outputId": "ed29a37d-32cf-427a-9d2d-d0f703b44012"
      },
      "execution_count": 26,
      "outputs": [
        {
          "output_type": "stream",
          "name": "stdout",
          "text": [
            "Ingrese el primer número: 4\n",
            "Ingrese el segundo número: 3\n",
            "Ingrese el tercer número: 6\n",
            "--------------\n",
            "La suma de los números es 13\n"
          ]
        }
      ]
    },
    {
      "cell_type": "markdown",
      "source": [
        "##Punto 4"
      ],
      "metadata": {
        "id": "xno3Xglii3X7"
      }
    },
    {
      "cell_type": "code",
      "source": [
        "N1=int(input(\"Ingrese el primer número: \"))\n",
        "N2=int(input(\"Ingrese el segundo número: \"))\n",
        "N3=int(input(\"Ingrese el tercer número: \"))\n",
        "N4=int(input(\"Ingrese el cuarto número: \"))\n",
        "\n",
        "def Suma2(a,b,c,d):\n",
        "  Lista2=[a,b,c,d]\n",
        "  Suma2=Lista2[0]+Lista2[1]+Lista2[2]+Lista2[3]\n",
        "  print(\"La suma de los números es\", Suma2)\n",
        "\n",
        "print(\"--------------\")\n",
        "Suma2(N1,N2,N3,N4)"
      ],
      "metadata": {
        "colab": {
          "base_uri": "https://localhost:8080/"
        },
        "id": "-_2jyGBqi5Y6",
        "outputId": "9bbff7e6-39b8-4330-d4b0-75cc3ead471c"
      },
      "execution_count": 27,
      "outputs": [
        {
          "output_type": "stream",
          "name": "stdout",
          "text": [
            "Ingrese el primer número: 4\n",
            "Ingrese el segundo número: 3\n",
            "Ingrese el tercer número: 5\n",
            "Ingrese el cuarto número: 6\n",
            "--------------\n",
            "La suma de los números es 18\n"
          ]
        }
      ]
    },
    {
      "cell_type": "markdown",
      "source": [
        "##Punto5"
      ],
      "metadata": {
        "id": "Am8E_7XQj-0f"
      }
    },
    {
      "cell_type": "code",
      "source": [
        "N=int(input(\"Ingrese el tamaño de su lista: \"))\n",
        "print(\"--------------\")\n",
        "def Fun5(a):\n",
        "  lista=[]\n",
        "  sum=0\n",
        "  for i in range(0,a):\n",
        "    Num=int(input(\"Ingrese un número: \"))\n",
        "    lista.append(Num)\n",
        "    sum+=lista[i]\n",
        "  \n",
        "  print(\"--------------\")\n",
        "  print(lista)\n",
        "  print(\"La suma es:\")\n",
        "  return sum\n",
        "\n",
        "Fun5(N)"
      ],
      "metadata": {
        "colab": {
          "base_uri": "https://localhost:8080/"
        },
        "id": "m5njrjErpQ6D",
        "outputId": "7accbddf-c5fd-4c25-ca79-19753610bbf1"
      },
      "execution_count": 40,
      "outputs": [
        {
          "output_type": "stream",
          "name": "stdout",
          "text": [
            "Ingrese el tamaño de su lista: 5\n",
            "--------------\n",
            "Ingrese un número: 3\n",
            "Ingrese un número: 6\n",
            "Ingrese un número: 5\n",
            "Ingrese un número: 4\n",
            "Ingrese un número: 7\n",
            "--------------\n",
            "[3, 6, 5, 4, 7]\n",
            "La suma es:\n"
          ]
        },
        {
          "output_type": "execute_result",
          "data": {
            "text/plain": [
              "25"
            ]
          },
          "metadata": {},
          "execution_count": 40
        }
      ]
    },
    {
      "cell_type": "markdown",
      "source": [
        "##Punto 6"
      ],
      "metadata": {
        "id": "arNkVlBFm0X8"
      }
    },
    {
      "cell_type": "code",
      "source": [
        "N1=int(input(\"Ingrese el primer número: \"))\n",
        "N2=int(input(\"Ingrese el segundo número: \"))\n",
        "N3=int(input(\"Ingrese el tercer número: \"))\n",
        "\n",
        "def Multiplicar1(a,b,c):\n",
        "  Lista1=[a,b,c]\n",
        "  Multiplicacion1=Lista1[0]*Lista1[1]*Lista1[2]\n",
        "  print(\"La multiplicación de los números es\", Multiplicacion1)\n",
        "\n",
        "print(\"--------------\")\n",
        "Multiplicar1(N1,N2,N3)"
      ],
      "metadata": {
        "colab": {
          "base_uri": "https://localhost:8080/"
        },
        "id": "fkFsLG2Qm5KM",
        "outputId": "ca4844aa-e0d3-4a92-fcae-04b38c1ee218"
      },
      "execution_count": 32,
      "outputs": [
        {
          "output_type": "stream",
          "name": "stdout",
          "text": [
            "Ingrese el primer número: 4\n",
            "Ingrese el segundo número: 6\n",
            "Ingrese el tercer número: 3\n",
            "--------------\n",
            "La multiplicación de los números es 72\n"
          ]
        }
      ]
    },
    {
      "cell_type": "markdown",
      "source": [
        "##Punto 7"
      ],
      "metadata": {
        "id": "5FGPh42Gnbsr"
      }
    },
    {
      "cell_type": "code",
      "source": [
        "N1=int(input(\"Ingrese el primer número: \"))\n",
        "N2=int(input(\"Ingrese el segundo número: \"))\n",
        "N3=int(input(\"Ingrese el tercer número: \"))\n",
        "N4=int(input(\"Ingrese el cuarto número: \"))\n",
        "\n",
        "def Multiplcar2(a,b,c,d):\n",
        "  Lista2=[a,b,c,d]\n",
        "  Multiplicacion2=Lista2[0]*Lista2[1]*Lista2[2]*Lista2[3]\n",
        "  print(\"La suma de los números es\", Multiplicacion2)\n",
        "\n",
        "print(\"--------------\")\n",
        "Multiplcar2(N1,N2,N3,N4)"
      ],
      "metadata": {
        "colab": {
          "base_uri": "https://localhost:8080/"
        },
        "id": "UX6uDRWPnhKR",
        "outputId": "eabd6fb6-5b21-4475-c479-44e2562bb1ac"
      },
      "execution_count": 33,
      "outputs": [
        {
          "output_type": "stream",
          "name": "stdout",
          "text": [
            "Ingrese el primer número: 6\n",
            "Ingrese el segundo número: 4\n",
            "Ingrese el tercer número: 3\n",
            "Ingrese el cuarto número: 6\n",
            "--------------\n",
            "La suma de los números es 432\n"
          ]
        }
      ]
    },
    {
      "cell_type": "markdown",
      "source": [
        "##Punto 8"
      ],
      "metadata": {
        "id": "UXymS17esvyy"
      }
    },
    {
      "cell_type": "code",
      "source": [
        "N=int(input(\"Ingrese el tamaño de su lista: \"))\n",
        "print(\"--------------\")\n",
        "def Fun8(a):\n",
        "  lista=[]\n",
        "  mul=1\n",
        "  for i in range(0,a):\n",
        "    Num=int(input(\"Ingrese un número: \"))\n",
        "    lista.append(Num)\n",
        "    mul=mul*lista[i]\n",
        "  \n",
        "  print(\"--------------\")\n",
        "  print(lista)\n",
        "  print(\"La multiplicación es:\")\n",
        "  return mul\n",
        "\n",
        "Fun8(N)"
      ],
      "metadata": {
        "colab": {
          "base_uri": "https://localhost:8080/"
        },
        "id": "cAfoW5VnsxWa",
        "outputId": "50256c6b-9028-4ee5-912b-5a1de0ba2ffe"
      },
      "execution_count": 42,
      "outputs": [
        {
          "output_type": "stream",
          "name": "stdout",
          "text": [
            "Ingrese el tamaño de su lista: 6\n",
            "--------------\n",
            "Ingrese un número: 4\n",
            "Ingrese un número: 5\n",
            "Ingrese un número: 3\n",
            "Ingrese un número: 6\n",
            "Ingrese un número: 4\n",
            "Ingrese un número: 5\n",
            "--------------\n",
            "[4, 5, 3, 6, 4, 5]\n",
            "La multiplicación es:\n"
          ]
        },
        {
          "output_type": "execute_result",
          "data": {
            "text/plain": [
              "7200"
            ]
          },
          "metadata": {},
          "execution_count": 42
        }
      ]
    },
    {
      "cell_type": "markdown",
      "source": [
        "##Punto 9"
      ],
      "metadata": {
        "id": "NOht0s6htPR6"
      }
    },
    {
      "cell_type": "code",
      "source": [
        "a=str(input(\"Ingrese una palabra: \"))\n",
        "\n",
        "def Punto9(Str):\n",
        "  Cadena=len(Str)\n",
        "  Vuelta=Str[Cadena::-1]\n",
        "  print(Vuelta)\n",
        "\n",
        "Punto9(a)"
      ],
      "metadata": {
        "colab": {
          "base_uri": "https://localhost:8080/"
        },
        "id": "jDwSxxtytcWs",
        "outputId": "a30db715-e52d-4392-e5c2-c4148b67ea39"
      },
      "execution_count": 56,
      "outputs": [
        {
          "output_type": "stream",
          "name": "stdout",
          "text": [
            "Ingrese una palabra: Hola\n",
            "aloH\n"
          ]
        }
      ]
    },
    {
      "cell_type": "markdown",
      "source": [
        "##Punto 10"
      ],
      "metadata": {
        "id": "xXuNnz7VxkQf"
      }
    },
    {
      "cell_type": "code",
      "source": [
        "Num=int(input(\"Ingrese un número para sacar su factorial: \"))\n",
        "\n",
        "def Punto10(a):\n",
        "  Mul=1\n",
        "  for i in range(0, a):\n",
        "    Mul=Mul*(i+1)\n",
        "  print(\"El factorial de\",a, \"es\",Mul)\n",
        "\n",
        "Punto10(Num)"
      ],
      "metadata": {
        "colab": {
          "base_uri": "https://localhost:8080/"
        },
        "id": "pGEvKbsnxlsP",
        "outputId": "c19d7210-a961-48b5-d470-4675b4e985e4"
      },
      "execution_count": 57,
      "outputs": [
        {
          "output_type": "stream",
          "name": "stdout",
          "text": [
            "Ingrese un número para sacar su factorial: 5\n",
            "El factorial de 5 es 120\n"
          ]
        }
      ]
    }
  ]
}