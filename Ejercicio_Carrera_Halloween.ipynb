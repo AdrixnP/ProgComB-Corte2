{
  "nbformat": 4,
  "nbformat_minor": 0,
  "metadata": {
    "colab": {
      "provenance": []
    },
    "kernelspec": {
      "name": "python3",
      "display_name": "Python 3"
    },
    "language_info": {
      "name": "python"
    }
  },
  "cells": [
    {
      "cell_type": "markdown",
      "source": [
        "#Parte 1\n",
        "Crear un porgrama al que se le indique si se desea realizar **\"truco o trato\"** y un listado de persona *(array)* con:\n",
        "*   Nombre\n",
        "*   Edad\n",
        "*   Altura en centímetros\n",
        "\n",
        "#Parte 2 (Ruta B)\n",
        "Si las personas han pedido **trato**, el programa retornara dulces *(aleatorios)* siguiendo los siguientes criterios:\n",
        "\n",
        "*   Un dulce por cada letra de nombre\n",
        "*   Un dulce por cada 3 años cumplidos hasta un máximo de 10 años por persona\n",
        "*   Dos dulces por cada 50cm de altura hasta un máximo de 150cm por persona\n",
        "\n",
        "Dulces aleatorios admitidos 🍭🍬🍫🧁"
      ],
      "metadata": {
        "id": "UcNUQZHrLuh6"
      }
    },
    {
      "cell_type": "code",
      "source": [
        "#Adrián Parra\n",
        "\n",
        "import random\n",
        "import math\n",
        "emojis=\"🍭🍬🍫🧁\"\n",
        "\n",
        "class Persona():\n",
        "  def __init__(self,nombre,edad,altura,):\n",
        "    self.nombre=nombre\n",
        "    self.edad=edad\n",
        "    self.altura=altura\n",
        " \n",
        "  def opcion(self,accion):\n",
        "    if accion==\"truco\":\n",
        "      print(\"Troliado mi pana 💀🎺🎺\")\n",
        "      print(n1.__dict__)\n",
        "    elif accion==\"trato\":\n",
        "      contar=0\n",
        "      for i in self.nombre:\n",
        "        contar+=1\n",
        "      if self.edad>=10:\n",
        "        contar+=3\n",
        "      else:\n",
        "        contar+=math.floor(self.edad/3)\n",
        "      if self.altura>=150:\n",
        "        contar+=6\n",
        "      else:\n",
        "            contar+=2*math.floor(self.altura/50)\n",
        "\n",
        "      print(f'{contar} dulces')\n",
        "      print(\"\".join(random.choice(emojis) for i in range(contar)))\n",
        "      print(n1.__dict__)\n",
        "\n",
        "#------------------------------------------------------------------------------#\n",
        "\n",
        "while True:\n",
        "  print(\"}-----------------------------------{\")\n",
        "  name=str(input(\"Ingrese el nombre: \"))\n",
        "  name=name.capitalize()\n",
        "  age=int(input(\"Ingrese la edad: \"))\n",
        "  heigh=int(input(\"Ingrese la altura en centímetros: \"))\n",
        "  n1=Persona(name,age,heigh)\n",
        "  print(\"¿Qué quiere hacer? [Truco o trato]\")\n",
        "  a=str(input(\"Ingrese la acción que desea realizar: \"))\n",
        "  a=a.lower()\n",
        "  while a!=\"truco\" and a!=\"trato\":\n",
        "    a=str(input(\"Ingrese una acción válida: \"))\n",
        "    a=a.lower()\n",
        "  n1.opcion(a)\n",
        "  print(\"}-----------------------------------{\")\n",
        "  print(\"¿Hay más personas pidiendo dulces?\")\n",
        "  choice=str(input(\"Si->s / No->n: \"))\n",
        "  while choice!=\"s\" and choice!=\"n\":\n",
        "    print(\"Ingrese una opción válida\")\n",
        "    choice=str(input(\"Si->s / No->n: \"))\n",
        "  if choice==\"n\":\n",
        "    print(\"Feliz Halloween🎃\")\n",
        "    break"
      ],
      "metadata": {
        "colab": {
          "base_uri": "https://localhost:8080/"
        },
        "id": "crbEQJiQLq2a",
        "outputId": "bc81c804-8005-4107-ebd1-087af7ac9b09"
      },
      "execution_count": 33,
      "outputs": [
        {
          "output_type": "stream",
          "name": "stdout",
          "text": [
            "}-----------------------------------{\n",
            "Ingrese el nombre: adrian\n",
            "Ingrese la edad: 18\n",
            "Ingrese la altura en centímetros: 175\n",
            "¿Qué quiere hacer? [Truco o trato]\n",
            "Ingrese la acción que desea realizar: trato\n",
            "15 dulces\n",
            "🍬🍭🍬🍫🍬🍬🍫🍬🍫🍫🧁🍭🍬🍭🍫\n",
            "{'nombre': 'Adrian', 'edad': 18, 'altura': 175}\n",
            "}-----------------------------------{\n",
            "¿Hay más personas pidiendo dulces?\n",
            "Si->s / No->n: s\n",
            "}-----------------------------------{\n",
            "Ingrese el nombre: jesus\n",
            "Ingrese la edad: 10\n",
            "Ingrese la altura en centímetros: 134\n",
            "¿Qué quiere hacer? [Truco o trato]\n",
            "Ingrese la acción que desea realizar: truco\n",
            "Troliado mi pana 💀🎺🎺\n",
            "{'nombre': 'Jesus', 'edad': 10, 'altura': 134}\n",
            "}-----------------------------------{\n",
            "¿Hay más personas pidiendo dulces?\n",
            "Si->s / No->n: s\n",
            "}-----------------------------------{\n",
            "Ingrese el nombre: nicolas\n",
            "Ingrese la edad: 7\n",
            "Ingrese la altura en centímetros: 115\n",
            "¿Qué quiere hacer? [Truco o trato]\n",
            "Ingrese la acción que desea realizar: trato\n",
            "13 dulces\n",
            "🍭🍫🍬🧁🍬🍭🍭🧁🍭🧁🍫🍬🍬\n",
            "{'nombre': 'Nicolas', 'edad': 7, 'altura': 115}\n",
            "}-----------------------------------{\n",
            "¿Hay más personas pidiendo dulces?\n",
            "Si->s / No->n: n\n",
            "Feliz Halloween🎃\n"
          ]
        }
      ]
    }
  ]
}