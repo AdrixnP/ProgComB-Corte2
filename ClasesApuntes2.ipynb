{
  "nbformat": 4,
  "nbformat_minor": 0,
  "metadata": {
    "colab": {
      "provenance": []
    },
    "kernelspec": {
      "name": "python3",
      "display_name": "Python 3"
    },
    "language_info": {
      "name": "python"
    }
  },
  "cells": [
    {
      "cell_type": "code",
      "source": [
        "class Saiyajin():\n",
        "  def __init__(self,nombre,ccabello,cojos,cola_mono,estatura):\n",
        "    self.nombre=nombre\n",
        "    self._ccabello=\"negro\"\n",
        "    self.cojos=\"negro\"\n",
        "    self._cola_mono=True\n",
        "    self.estatura=estatura\n",
        "  def cambio_color(self,putisteria):\n",
        "    if putisteria>=4000 and putisteria<100000:\n",
        "      self.ccabello=\"rubio\"\n",
        "      self.cojos=\"aguamarina\"\n",
        "    elif putisteria>=1000000 and putisteria<200000:\n",
        "      self.ccabello=\"rojo\"\n",
        "      self.cojos=\"rosita\"\n",
        "    elif putisteria>=2000000 and putisteria<500000:\n",
        "      self.ccabello=\"blue\"\n",
        "      self.cojos=\"azul azul\"\n",
        "    elif putisteria>=2000000 and putisteria<500000:\n",
        "      self.ccabello=\"cenizo\"\n",
        "      self.cojos=\"plateado\"\n",
        "    else:\n",
        "      self.ccabello=\"negro\"\n",
        "      self.cojos=\"negro\"\n",
        "  def trabajo (self,t):\n",
        "    if t==1: print(self.nombre, \"es guerrero.\")\n",
        "    elif t==2: print(f\"{self.nombre,} es liendra de freezer.\")\n",
        "    elif t==3: print(f\"{self.nombre}, es mercenario.\")\n",
        "    elif t==4: print(f\"{self.nombre}, es de la realeza.\")\n",
        "    else: print(f\"{self.nombre}, es Nini xD\")"
      ],
      "metadata": {
        "id": "FC6whhDtUWpP"
      },
      "execution_count": 65,
      "outputs": []
    },
    {
      "cell_type": "code",
      "source": [
        "class Humanos():\n",
        "  def __init__(self,nombre,ccabello,cojos,estatura):\n",
        "    self.nombre=nombre\n",
        "    self._ccabello=\"negro\"\n",
        "    self.cojos=\"negro\"\n",
        "    self.estatura=estatura\n",
        "  def cambio_color(self,putisteria):\n",
        "    if putisteria>=4000 and putisteria<100000:\n",
        "      self.ccabello=\"rubio\"\n",
        "      self.cojos=\"aguamarina\"\n",
        "    elif putisteria>=1000000 and putisteria<200000:\n",
        "      self.ccabello=\"rojo\"\n",
        "      self.cojos=\"rosita\"\n",
        "    elif putisteria>=2000000 and putisteria<500000:\n",
        "      self.ccabello=\"blue\"\n",
        "      self.cojos=\"azul azul\"\n",
        "    elif putisteria>=2000000 and putisteria<500000:\n",
        "      self.ccabello=\"cenizo\"\n",
        "      self.cojos=\"plateado\"\n",
        "    else:\n",
        "      self.ccabello=\"negro\"\n",
        "      self.cojos=\"negro\"\n",
        "  def trabajo (self,t):\n",
        "    if t==1: print(self.nombre, \"es periodista.\")\n",
        "    elif t==2: print(f\"{self.nombre,} es político.\")\n",
        "    elif t==3: print(f\"{self.nombre} es de la patrulla roja.\")\n",
        "    elif t==4: print(f\"{self.nombre} trabaja en capsule corps.\")\n",
        "    elif t==5: print(f\"{self.nombre} es policía.\")\n",
        "    elif t==6: print(f\"{self.nombre} es granjero.\")\n",
        "    else: print(f\"{self.nombre}, es Nini xD\")"
      ],
      "metadata": {
        "id": "Ci0dPhWDcQcM"
      },
      "execution_count": 66,
      "outputs": []
    },
    {
      "cell_type": "code",
      "source": [
        "saya1=Saiyajin(\"Jhonsito\",\"Aguamarina\",\"Arcoiris\",False,180)\n",
        "saya1.cambio_color(10000000)"
      ],
      "metadata": {
        "id": "0Ml236sHVExo"
      },
      "execution_count": 67,
      "outputs": []
    },
    {
      "cell_type": "code",
      "source": [
        "saya1.__dict__"
      ],
      "metadata": {
        "colab": {
          "base_uri": "https://localhost:8080/"
        },
        "id": "iqAJoPRwVnHe",
        "outputId": "fed9c4cb-ba0e-463c-c3ee-7a12950e6f2a"
      },
      "execution_count": 68,
      "outputs": [
        {
          "output_type": "execute_result",
          "data": {
            "text/plain": [
              "{'nombre': 'Jhonsito',\n",
              " '_ccabello': 'negro',\n",
              " 'cojos': 'negro',\n",
              " '_cola_mono': True,\n",
              " 'estatura': 180,\n",
              " 'ccabello': 'negro'}"
            ]
          },
          "metadata": {},
          "execution_count": 68
        }
      ]
    },
    {
      "cell_type": "code",
      "source": [
        "class Hibrido (Saiyajin,Humanos):\n",
        " def cambio_color(self,putisteria):\n",
        "   super().cambio_color(putisteria)\n",
        "   if putisteria>=10000000000 and putisteria<10000000000000000:\n",
        "      self.ccabello=\"blanco\"\n",
        "      self.cojos=\"rojo\"   \n",
        "      print (f\"{self.nombre} puede ser una bestia re loco.\")"
      ],
      "metadata": {
        "id": "XnOq79vFhhBC"
      },
      "execution_count": null,
      "outputs": []
    },
    {
      "cell_type": "code",
      "source": [
        "class Perros():\n",
        "  def ladrar(self):\n",
        "    print(\"GUAUU GUAUU\")\n",
        "  def grunir(self):\n",
        "    print(\"GRRRR GRRRR\")"
      ],
      "metadata": {
        "id": "GdS5xQ8qia-p"
      },
      "execution_count": null,
      "outputs": []
    },
    {
      "cell_type": "code",
      "source": [
        "class Pastor_Aleman(Perros):\n",
        "  def ladrar(self):\n",
        "    print(\"GUAUU GUAUU\")\n",
        "  def grunir(self):\n",
        "    print(\"AGRRRR AGRRRR\")"
      ],
      "metadata": {
        "id": "JXequ9Kwizog"
      },
      "execution_count": null,
      "outputs": []
    },
    {
      "cell_type": "code",
      "source": [
        "class Caniche(Perros):\n",
        "  def ladrar(self):\n",
        "    print(\"GUAUU GUAUU GUAUU GUAUU\")\n",
        "  def grunir(self):\n",
        "    print(\"GÑIII GÑIII\")"
      ],
      "metadata": {
        "id": "0ToSYPPli7qX"
      },
      "execution_count": null,
      "outputs": []
    },
    {
      "cell_type": "code",
      "source": [
        "class Shepadoodle(Caniche,Pastor_Aleman):\n",
        "  def xladrar(self,veces):\n",
        "    for cuantas in range(veces):\n",
        "      super(Shepadoodle,self).ladrar()"
      ],
      "metadata": {
        "id": "EPPvWs74jDZn"
      },
      "execution_count": null,
      "outputs": []
    },
    {
      "cell_type": "code",
      "source": [
        "Tommy=Pastor_Aleman()\n",
        "Lulu=Caniche()\n",
        "Milu=Shepadoodle()\n",
        "Milu.xladrar(2)"
      ],
      "metadata": {
        "id": "nlGuYLyzjbyG"
      },
      "execution_count": null,
      "outputs": []
    },
    {
      "cell_type": "code",
      "source": [
        "class Asignar(list):\n",
        "  pass"
      ],
      "metadata": {
        "id": "w0EyM0-Pkz_k"
      },
      "execution_count": null,
      "outputs": []
    },
    {
      "cell_type": "code",
      "source": [
        "a=Asignar()"
      ],
      "metadata": {
        "id": "Ae20YErdk4qV"
      },
      "execution_count": null,
      "outputs": []
    },
    {
      "cell_type": "code",
      "source": [
        "a.append(4)"
      ],
      "metadata": {
        "id": "FFtAtrTvk9Ds"
      },
      "execution_count": null,
      "outputs": []
    },
    {
      "cell_type": "code",
      "source": [
        "class Padre():\n",
        "  def __init__(self,ojos,cejas):\n",
        "    self.ojos=ojos\n",
        "    self.cejas=cejas\n",
        "class Hijo():\n",
        "  def __init__(self,ojos,cejas,cara):\n",
        "    self.ojos=ojos\n",
        "    self.cejas=cejas\n",
        "    self.cara=cara"
      ],
      "metadata": {
        "id": "Ic2BHYUIn_-p"
      },
      "execution_count": null,
      "outputs": []
    },
    {
      "cell_type": "code",
      "source": [
        "Manuel=Padre(\"Marron\",\"Miel\")\n",
        "Tomas=Hijo(\"Rubio\",\"Verde\",\"Larga\")\n",
        "print(Tomas.ojos,Tomas.cejas,Tomas.cara)"
      ],
      "metadata": {
        "id": "jd-QB7reof8m"
      },
      "execution_count": null,
      "outputs": []
    },
    {
      "cell_type": "code",
      "source": [
        "class Abuelo():\n",
        "  def __init__(self,ojos,cejas):\n",
        "    self.ojos=ojos\n",
        "    self.cejas=cejas\n",
        "class Hijo2():\n",
        "  def __init__(self,ojos,cejas,cara):\n",
        "    super().__init__(ojos,cejas)\n",
        "    self.cara=cara"
      ],
      "metadata": {
        "id": "uVWyltZfowqV"
      },
      "execution_count": null,
      "outputs": []
    },
    {
      "cell_type": "code",
      "source": [
        "Abuelo=Abuelo(\"Negro\",\"Marron\")\n",
        "Mateo=Hijo2(\"Marron\",\"Verdes\",\"Gordita\")"
      ],
      "metadata": {
        "id": "ry3mlsI9pULl"
      },
      "execution_count": null,
      "outputs": []
    }
  ]
}